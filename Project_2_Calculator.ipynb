{
 "cells": [
  {
   "cell_type": "markdown",
   "id": "a5f55a97",
   "metadata": {},
   "source": [
    "# Calculator"
   ]
  },
  {
   "cell_type": "code",
   "execution_count": 12,
   "id": "696cae49",
   "metadata": {},
   "outputs": [],
   "source": [
    "def add (x,y):\n",
    "    return x + y\n",
    "\n",
    "def substract (x,y):\n",
    "    return x - y\n",
    "\n",
    "def multiply (x,y):\n",
    "    return x * y\n",
    "\n",
    "def divide (x,y):\n",
    "    return x / y\n"
   ]
  },
  {
   "cell_type": "code",
   "execution_count": 8,
   "id": "ca7cc85e",
   "metadata": {},
   "outputs": [
    {
     "name": "stdout",
     "output_type": "stream",
     "text": [
      "Enter Choice(A,S,M,D): a\n",
      "Enter First Number: 25\n",
      "Enter Second Number: 1\n"
     ]
    }
   ],
   "source": [
    "choice = input('Enter Choice(A,S,M,D): ')\n",
    "\n",
    "num1 = float(input('Enter First Number: '))\n",
    "\n",
    "num2 = float(input('Enter Second Number: '))"
   ]
  },
  {
   "cell_type": "code",
   "execution_count": 15,
   "id": "34bb5525",
   "metadata": {},
   "outputs": [
    {
     "name": "stdout",
     "output_type": "stream",
     "text": [
      "Enter 'A' For Addition\n",
      "Enter 'S' For Substraction\n",
      "Enter 'M' For Multiplication\n",
      "Enter 'D' For Division\n",
      "Enter Choice(A,S,M,D): a\n",
      "Enter First Number: 25\n",
      "Enter Second Number: 45\n",
      "Result 25.0 + 45.0 = 70.0\n"
     ]
    }
   ],
   "source": [
    "print(\"Enter 'A' For Addition\")\n",
    "print(\"Enter 'S' For Substraction\")\n",
    "print(\"Enter 'M' For Multiplication\")\n",
    "print(\"Enter 'D' For Division\")\n",
    "\n",
    "\n",
    "choice = input('Enter Choice(A,S,M,D): ')\n",
    "\n",
    "\n",
    "\n",
    "if choice.upper() in ('A','ADDITION','ADD','S','SUBSTRACT','SUBSTRACTION','M','MULTIPLY','MULTIPLICATION','D','DIVISION','DIVIDE'):\n",
    "\n",
    "    num1 = float(input('Enter First Number: '))\n",
    "    num2 = float(input('Enter Second Number: '))\n",
    "    \n",
    "    if choice.upper() in ('A','ADDITION','ADD'):\n",
    "        print('Result',num1, '+', num2, '=', add (num1,num2))\n",
    "        \n",
    "    elif choice.upper() in ('S','SUBSTRACT','SUBSTRACTION'):\n",
    "        print('Result',num1, '-', num2, '=', substract (num1,num2))\n",
    "        \n",
    "        \n",
    "    elif choice.upper() in ('M','MULTIPLY','MULTIPLICATION'):\n",
    "        print('Result',num1, '*', num2, '=', multiply (num1,num2))\n",
    "        \n",
    "    elif choice.upper() in ('D','DIVISION','DIVIDE'):\n",
    "        print('Result',num1, '/', num2, '=', divide (num1,num2))\n",
    "\n",
    "\n"
   ]
  },
  {
   "cell_type": "code",
   "execution_count": null,
   "id": "a926a865",
   "metadata": {},
   "outputs": [
    {
     "name": "stdout",
     "output_type": "stream",
     "text": [
      "Enter 'A' For Addition\n",
      "Enter 'S' For Substraction\n",
      "Enter 'M' For Multiplication\n",
      "Enter 'D' For Division\n"
     ]
    }
   ],
   "source": [
    "print(\"Enter 'A' For Addition\")\n",
    "print(\"Enter 'S' For Substraction\")\n",
    "print(\"Enter 'M' For Multiplication\")\n",
    "print(\"Enter 'D' For Division\")\n",
    "\n",
    "\n",
    "\n",
    "while True:\n",
    "\n",
    "\n",
    "    choice = input('Enter Choice(A,S,M,D): ')\n",
    "\n",
    "\n",
    "\n",
    "    if choice.upper() in ('A','ADDITION','ADD','S','SUBSTRACT','SUBSTRACTION','M','MULTIPLY','MULTIPLICATION','D','DIVISION','DIVIDE'):\n",
    "\n",
    "        num1 = float(input('Enter First Number: '))\n",
    "        num2 = float(input('Enter Second Number: '))\n",
    "\n",
    "        if choice.upper() in ('A','ADDITION','ADD'):\n",
    "            print('Result',num1, '+', num2, '=', add (num1,num2))\n",
    "\n",
    "        elif choice.upper() in ('S','SUBSTRACT','SUBSTRACTION'):\n",
    "            print('Result',num1, '-', num2, '=', substract (num1,num2))\n",
    "\n",
    "\n",
    "        elif choice.upper() in ('M','MULTIPLY','MULTIPLICATION'):\n",
    "            print('Result',num1, '*', num2, '=', multiply (num1,num2))\n",
    "\n",
    "        elif choice.upper() in ('D','DIVISION','DIVIDE'):\n",
    "            print('Result',num1, '/', num2, '=', divide (num1,num2))\n",
    "\n",
    "    else:\n",
    "        print('Please Enter Correct Choice.')\n",
    "        \n",
    "        \n",
    "    next_calculation = input(\"Want to do another calculation('yes/no?'): \")\n",
    "    if next_calculation.lower() in ('no','n','nope'):\n",
    "        break\n"
   ]
  },
  {
   "cell_type": "code",
   "execution_count": null,
   "id": "dd54fb43",
   "metadata": {},
   "outputs": [],
   "source": []
  },
  {
   "cell_type": "code",
   "execution_count": null,
   "id": "06db13e8",
   "metadata": {},
   "outputs": [],
   "source": []
  },
  {
   "cell_type": "code",
   "execution_count": null,
   "id": "ed0e9068",
   "metadata": {},
   "outputs": [],
   "source": []
  },
  {
   "cell_type": "code",
   "execution_count": null,
   "id": "1cadc9a6",
   "metadata": {},
   "outputs": [],
   "source": []
  },
  {
   "cell_type": "code",
   "execution_count": null,
   "id": "0b29953e",
   "metadata": {},
   "outputs": [],
   "source": []
  },
  {
   "cell_type": "code",
   "execution_count": null,
   "id": "9a938300",
   "metadata": {},
   "outputs": [],
   "source": []
  },
  {
   "cell_type": "code",
   "execution_count": null,
   "id": "7de06139",
   "metadata": {},
   "outputs": [],
   "source": []
  },
  {
   "cell_type": "code",
   "execution_count": null,
   "id": "b156a1e9",
   "metadata": {},
   "outputs": [],
   "source": []
  },
  {
   "cell_type": "code",
   "execution_count": null,
   "id": "9cd91a6c",
   "metadata": {},
   "outputs": [],
   "source": []
  },
  {
   "cell_type": "code",
   "execution_count": null,
   "id": "96723e0a",
   "metadata": {},
   "outputs": [],
   "source": []
  },
  {
   "cell_type": "code",
   "execution_count": null,
   "id": "554275ee",
   "metadata": {},
   "outputs": [],
   "source": []
  },
  {
   "cell_type": "code",
   "execution_count": null,
   "id": "65a9e619",
   "metadata": {},
   "outputs": [],
   "source": []
  },
  {
   "cell_type": "code",
   "execution_count": null,
   "id": "79c94954",
   "metadata": {},
   "outputs": [],
   "source": []
  },
  {
   "cell_type": "code",
   "execution_count": null,
   "id": "ba069bb8",
   "metadata": {},
   "outputs": [],
   "source": []
  },
  {
   "cell_type": "code",
   "execution_count": null,
   "id": "c4178ac5",
   "metadata": {},
   "outputs": [],
   "source": []
  },
  {
   "cell_type": "code",
   "execution_count": null,
   "id": "97d13bbf",
   "metadata": {},
   "outputs": [],
   "source": []
  },
  {
   "cell_type": "code",
   "execution_count": null,
   "id": "6b15ac5b",
   "metadata": {},
   "outputs": [],
   "source": []
  },
  {
   "cell_type": "code",
   "execution_count": null,
   "id": "0a1476b7",
   "metadata": {},
   "outputs": [],
   "source": []
  },
  {
   "cell_type": "code",
   "execution_count": null,
   "id": "86ea9501",
   "metadata": {},
   "outputs": [],
   "source": []
  },
  {
   "cell_type": "code",
   "execution_count": null,
   "id": "70ffc285",
   "metadata": {},
   "outputs": [],
   "source": []
  },
  {
   "cell_type": "code",
   "execution_count": null,
   "id": "9d7554e7",
   "metadata": {},
   "outputs": [],
   "source": []
  },
  {
   "cell_type": "code",
   "execution_count": null,
   "id": "e71aaf3f",
   "metadata": {},
   "outputs": [],
   "source": []
  },
  {
   "cell_type": "code",
   "execution_count": null,
   "id": "4374be9b",
   "metadata": {},
   "outputs": [],
   "source": []
  },
  {
   "cell_type": "code",
   "execution_count": null,
   "id": "9e6178e9",
   "metadata": {},
   "outputs": [],
   "source": []
  },
  {
   "cell_type": "code",
   "execution_count": null,
   "id": "3148285d",
   "metadata": {},
   "outputs": [],
   "source": []
  },
  {
   "cell_type": "code",
   "execution_count": null,
   "id": "292b3598",
   "metadata": {},
   "outputs": [],
   "source": []
  },
  {
   "cell_type": "code",
   "execution_count": null,
   "id": "9b6a7ef6",
   "metadata": {},
   "outputs": [],
   "source": []
  },
  {
   "cell_type": "code",
   "execution_count": null,
   "id": "492d4f7a",
   "metadata": {},
   "outputs": [],
   "source": []
  },
  {
   "cell_type": "code",
   "execution_count": null,
   "id": "bdafd5af",
   "metadata": {},
   "outputs": [],
   "source": []
  },
  {
   "cell_type": "code",
   "execution_count": null,
   "id": "231658d1",
   "metadata": {},
   "outputs": [],
   "source": []
  },
  {
   "cell_type": "code",
   "execution_count": null,
   "id": "9c51f353",
   "metadata": {},
   "outputs": [],
   "source": []
  },
  {
   "cell_type": "code",
   "execution_count": null,
   "id": "d31f9f7c",
   "metadata": {},
   "outputs": [],
   "source": []
  },
  {
   "cell_type": "code",
   "execution_count": null,
   "id": "b92957bb",
   "metadata": {},
   "outputs": [],
   "source": []
  },
  {
   "cell_type": "code",
   "execution_count": null,
   "id": "9cb851cc",
   "metadata": {},
   "outputs": [],
   "source": []
  },
  {
   "cell_type": "code",
   "execution_count": null,
   "id": "3b1f6b19",
   "metadata": {},
   "outputs": [],
   "source": []
  },
  {
   "cell_type": "code",
   "execution_count": null,
   "id": "899842c7",
   "metadata": {},
   "outputs": [],
   "source": []
  }
 ],
 "metadata": {
  "kernelspec": {
   "display_name": "Python 3 (ipykernel)",
   "language": "python",
   "name": "python3"
  },
  "language_info": {
   "codemirror_mode": {
    "name": "ipython",
    "version": 3
   },
   "file_extension": ".py",
   "mimetype": "text/x-python",
   "name": "python",
   "nbconvert_exporter": "python",
   "pygments_lexer": "ipython3",
   "version": "3.11.5"
  }
 },
 "nbformat": 4,
 "nbformat_minor": 5
}
